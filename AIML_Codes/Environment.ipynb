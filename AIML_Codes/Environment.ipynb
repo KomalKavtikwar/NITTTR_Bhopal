{
  "nbformat": 4,
  "nbformat_minor": 0,
  "metadata": {
    "colab": {
      "provenance": []
    },
    "kernelspec": {
      "name": "python3",
      "display_name": "Python 3"
    },
    "language_info": {
      "name": "python"
    }
  },
  "cells": [
    {
      "cell_type": "markdown",
      "source": [
        "Reinforcement Learining"
      ],
      "metadata": {
        "id": "yL7qUSPXEnSl"
      }
    },
    {
      "cell_type": "markdown",
      "source": [
        "Class ---> Environment\n",
        "Total steps limits =20\n",
        "\n",
        "make function doAction --> +ve or -ve return int as a reward another function --> action work is done or not retunr list[0,1]\n",
        "\n",
        "Second Class --> Agent\n",
        "take action make function take steps--> provide environment tak action in environment(2)\n",
        "now reward will be added together"
      ],
      "metadata": {
        "id": "D4fJQmj4Lcwu"
      }
    },
    {
      "cell_type": "code",
      "execution_count": null,
      "metadata": {
        "colab": {
          "base_uri": "https://localhost:8080/"
        },
        "id": "OHhvQiPEEAr2",
        "outputId": "3c570d6b-d3c4-48b4-cb20-5acbaa0a5a28"
      },
      "outputs": [
        {
          "output_type": "execute_result",
          "data": {
            "text/plain": [
              "0.5024911706969443"
            ]
          },
          "metadata": {},
          "execution_count": 10
        }
      ],
      "source": [
        "import random\n",
        "class MyEnvironment:\n",
        "  def __init__(self):\n",
        "    self.rstep=20\n",
        "  def getAction(self):\n",
        "    return [0,1]\n",
        "  def is_done(self):\n",
        "    return self.rstep == 0\n",
        "  def action(self,act): # datatype of act is int\n",
        "    if self.is_done():\n",
        "      raise Exception(\"game Over\")\n",
        "    self.rstep-=1\n",
        "    return random.random()\n",
        "s=MyEnvironment()\n",
        "s.action(1)"
      ]
    },
    {
      "cell_type": "markdown",
      "source": [],
      "metadata": {
        "id": "PoqO77qWEmcz"
      }
    },
    {
      "cell_type": "code",
      "source": [
        "class Agent:\n",
        "  def __init__(self):\n",
        "    self.treward=0.0\n",
        "  def step(self,env): #env is object of MyEnvironment\n",
        "    alist = env.getAction()\n",
        "    print(alist)\n",
        "    reward= env.action(random.choice(alist))\n",
        "    self.treward += reward\n",
        "    print(\"Total Reward =\",self.treward)\n",
        "  def getTrewards(self):\n",
        "    return trewards\n"
      ],
      "metadata": {
        "id": "HrLmj-87fjDT"
      },
      "execution_count": null,
      "outputs": []
    },
    {
      "cell_type": "code",
      "source": [
        "env = MyEnvironment()\n",
        "ag = Agent()\n",
        "i = 0\n",
        "while not env.is_done():\n",
        "  i+=1\n",
        "  print(\"step no.\",i)\n",
        "  ag.step(env)\n",
        "print(\"Total Rewards\",ag.treward)\n",
        "\n"
      ],
      "metadata": {
        "colab": {
          "base_uri": "https://localhost:8080/"
        },
        "id": "Dhi8M0xxgWSU",
        "outputId": "00128ea5-a8f6-420f-9935-934a5295e2bb"
      },
      "execution_count": null,
      "outputs": [
        {
          "output_type": "stream",
          "name": "stdout",
          "text": [
            "step no. 1\n",
            "[0, 1]\n",
            "Total Reward = 0.698897745296731\n",
            "step no. 2\n",
            "[0, 1]\n",
            "Total Reward = 1.2564155095098972\n",
            "step no. 3\n",
            "[0, 1]\n",
            "Total Reward = 2.1189121110807063\n",
            "step no. 4\n",
            "[0, 1]\n",
            "Total Reward = 2.2851352588598552\n",
            "step no. 5\n",
            "[0, 1]\n",
            "Total Reward = 2.452368152628477\n",
            "step no. 6\n",
            "[0, 1]\n",
            "Total Reward = 3.354648833752427\n",
            "step no. 7\n",
            "[0, 1]\n",
            "Total Reward = 4.0053271675411795\n",
            "step no. 8\n",
            "[0, 1]\n",
            "Total Reward = 4.550228775667271\n",
            "step no. 9\n",
            "[0, 1]\n",
            "Total Reward = 5.386478141545249\n",
            "step no. 10\n",
            "[0, 1]\n",
            "Total Reward = 6.165333855602423\n",
            "step no. 11\n",
            "[0, 1]\n",
            "Total Reward = 7.028760051397015\n",
            "step no. 12\n",
            "[0, 1]\n",
            "Total Reward = 7.648257806059651\n",
            "step no. 13\n",
            "[0, 1]\n",
            "Total Reward = 8.130402638941359\n",
            "step no. 14\n",
            "[0, 1]\n",
            "Total Reward = 8.601798468274305\n",
            "step no. 15\n",
            "[0, 1]\n",
            "Total Reward = 8.652263575341253\n",
            "step no. 16\n",
            "[0, 1]\n",
            "Total Reward = 9.158903356835781\n",
            "step no. 17\n",
            "[0, 1]\n",
            "Total Reward = 10.041494005924045\n",
            "step no. 18\n",
            "[0, 1]\n",
            "Total Reward = 10.897292282866303\n",
            "step no. 19\n",
            "[0, 1]\n",
            "Total Reward = 11.702581431018727\n",
            "step no. 20\n",
            "[0, 1]\n",
            "Total Reward = 11.89634431870463\n",
            "Total Rewards 11.89634431870463\n"
          ]
        }
      ]
    },
    {
      "cell_type": "code",
      "source": [],
      "metadata": {
        "id": "rS6b2mR2h-8y"
      },
      "execution_count": null,
      "outputs": []
    }
  ]
}